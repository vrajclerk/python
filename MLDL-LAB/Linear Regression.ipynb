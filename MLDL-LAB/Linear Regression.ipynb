{
 "cells": [
  {
   "cell_type": "code",
   "execution_count": null,
   "id": "7f68dd91-2c6c-49e9-9eff-ac0a7a996077",
   "metadata": {},
   "outputs": [],
   "source": []
  },
  {
   "cell_type": "code",
   "execution_count": 2,
   "id": "60fc8248-af2e-4ee9-a0c5-2e07103664d7",
   "metadata": {},
   "outputs": [],
   "source": [
    "import numpy as np\n",
    "import pandas as pd\n",
    "import matplotlib.pyplot as plt\n"
   ]
  },
  {
   "cell_type": "code",
   "execution_count": 3,
   "id": "4b073f66-1d3f-4e92-a1d6-207b1e5351d6",
   "metadata": {},
   "outputs": [],
   "source": [
    "#reads csv\n",
    "salary_df = pd.read_csv('Salary_data.csv')"
   ]
  },
  {
   "cell_type": "code",
   "execution_count": 4,
   "id": "df004095-7d32-42ab-a5a5-1c68df530324",
   "metadata": {},
   "outputs": [
    {
     "data": {
      "text/html": [
       "<div>\n",
       "<style scoped>\n",
       "    .dataframe tbody tr th:only-of-type {\n",
       "        vertical-align: middle;\n",
       "    }\n",
       "\n",
       "    .dataframe tbody tr th {\n",
       "        vertical-align: top;\n",
       "    }\n",
       "\n",
       "    .dataframe thead th {\n",
       "        text-align: right;\n",
       "    }\n",
       "</style>\n",
       "<table border=\"1\" class=\"dataframe\">\n",
       "  <thead>\n",
       "    <tr style=\"text-align: right;\">\n",
       "      <th></th>\n",
       "      <th>YearsExperience</th>\n",
       "      <th>Salary</th>\n",
       "    </tr>\n",
       "  </thead>\n",
       "  <tbody>\n",
       "    <tr>\n",
       "      <th>0</th>\n",
       "      <td>1.1</td>\n",
       "      <td>39343.0</td>\n",
       "    </tr>\n",
       "    <tr>\n",
       "      <th>1</th>\n",
       "      <td>1.3</td>\n",
       "      <td>46205.0</td>\n",
       "    </tr>\n",
       "    <tr>\n",
       "      <th>2</th>\n",
       "      <td>1.5</td>\n",
       "      <td>37731.0</td>\n",
       "    </tr>\n",
       "    <tr>\n",
       "      <th>3</th>\n",
       "      <td>2.0</td>\n",
       "      <td>43525.0</td>\n",
       "    </tr>\n",
       "    <tr>\n",
       "      <th>4</th>\n",
       "      <td>2.2</td>\n",
       "      <td>39891.0</td>\n",
       "    </tr>\n",
       "  </tbody>\n",
       "</table>\n",
       "</div>"
      ],
      "text/plain": [
       "   YearsExperience   Salary\n",
       "0              1.1  39343.0\n",
       "1              1.3  46205.0\n",
       "2              1.5  37731.0\n",
       "3              2.0  43525.0\n",
       "4              2.2  39891.0"
      ]
     },
     "execution_count": 4,
     "metadata": {},
     "output_type": "execute_result"
    }
   ],
   "source": [
    "salary_df.head()"
   ]
  },
  {
   "cell_type": "code",
   "execution_count": 5,
   "id": "82de100f-e8e6-4b17-a608-641cce99356e",
   "metadata": {},
   "outputs": [],
   "source": [
    "\n",
    "Here are your LinearRegression class methods with comments explaining each line of the code:\n",
    "\n",
    "python\n",
    "Copy code\n",
    "class LinearRegression:\n",
    "    def __init__(self):\n",
    "        # Initialize the slope (m) and intercept (c) to 0\n",
    "        self.m = 0\n",
    "        self.c = 0\n",
    "\n",
    "    def train(self, X, Y):\n",
    "        # Convert input lists to numpy arrays for easier mathematical operations\n",
    "        X = np.array(X)\n",
    "        Y = np.array(Y)\n",
    "        \n",
    "        # Calculate the means of X and Y\n",
    "        x_mean = np.mean(X)\n",
    "        y_mean = np.mean(Y)\n",
    "        \n",
    "        # Calculate the mean of the product of X and Y\n",
    "        xy_mean = np.mean(X * Y)\n",
    "        \n",
    "        # Calculate the mean of the square of X\n",
    "        x2_mean = np.mean(X ** 2)\n",
    "        \n",
    "        # Calculate the slope (m) using the linear regression formula\n",
    "        self.m = (xy_mean - (x_mean * y_mean)) / (x2_mean - x_mean ** 2)\n",
    "        \n",
    "        # Calculate the intercept (c) using the linear regression formula\n",
    "        self.c = y_mean - self.m * x_mean\n",
    "\n",
    "    def print_weight(self):\n",
    "        # Print the calculated slope and intercept\n",
    "        print(f'{self.m} && {self.c}')\n",
    "\n",
    "    def predict(self, X):\n",
    "        # Predict the Y values for the given X values using the calculated slope and intercept\n",
    "        return np.array(X) * self.m + self.c\n",
    "\n",
    "    def mse(self, X, Y):\n",
    "        # Calculate the Mean Squared Error (MSE) for the predictions\n",
    "        y_pred = np.array(X) * self.m + self.c\n",
    "        return np.sum((np.array(Y) - y_pred) ** 2) / Y.shape[0]\n",
    "\n",
    "    def rmse(self, X, Y):\n",
    "        # Calculate the Root Mean Squared Error (RMSE) for the predictions\n",
    "        y_pred = np.array(X) * self.m + self.c\n",
    "        return np.sqrt(np.sum((np.array(Y) - y_pred) ** 2) / Y.shape[0])\n",
    "\n",
    "\n",
    "\n",
    "        \n",
    "        "
   ]
  },
  {
   "cell_type": "code",
   "execution_count": 6,
   "id": "176ad25a-c0c1-4936-9499-f62cb0df6148",
   "metadata": {},
   "outputs": [
    {
     "name": "stdout",
     "output_type": "stream",
     "text": [
      "9449.962321455081 &&  25792.200198668666\n"
     ]
    }
   ],
   "source": [
    "# Create an instance of the LinearRegression class\n",
    "model = LinearRegression()\n",
    "\n",
    "# Train the model using the 'YearsExperience' as the input (X) and 'Salary' as the output (Y)\n",
    "# The train method will calculate and set the slope (m) and intercept (c) for the linear regression model\n",
    "model.train(salary_df['YearsExperience'], salary_df['Salary'])\n",
    "\n",
    "# Print the calculated slope (m) and intercept (c)\n",
    "model.print_weight()\n"
   ]
  },
  {
   "cell_type": "code",
   "execution_count": 7,
   "id": "351d4672-816b-427d-be2d-fea501e3f6dd",
   "metadata": {},
   "outputs": [
    {
     "data": {
      "text/plain": [
       "array([ 36187.15875227,  38077.15121656,  39967.14368085,  44692.12484158,\n",
       "        46582.11730587,  53197.09093089,  54142.08716303,  56032.07962732,\n",
       "        56032.07962732,  60757.06078805,  62647.05325234,  63592.04948449,\n",
       "        63592.04948449,  64537.04571663,  68317.03064522,  72097.0155738 ,\n",
       "        73987.00803809,  75877.00050238,  81546.97789525,  82491.9741274 ,\n",
       "        90051.94398456,  92886.932681  , 100446.90253816, 103281.8912346 ,\n",
       "       108006.87239533, 110841.86109176, 115566.84225249, 116511.83848464,\n",
       "       123126.81210966, 125016.80457395])"
      ]
     },
     "execution_count": 7,
     "metadata": {},
     "output_type": "execute_result"
    }
   ],
   "source": [
    "\n",
    "# Predict the salary based on the 'YearsExperience'\n",
    "model.predict(salary_df['YearsExperience'])"
   ]
  },
  {
   "cell_type": "code",
   "execution_count": 8,
   "id": "2638fd72-781c-46ce-ba66-d10400751283",
   "metadata": {
    "scrolled": true
   },
   "outputs": [
    {
     "data": {
      "text/html": [
       "<div>\n",
       "<style scoped>\n",
       "    .dataframe tbody tr th:only-of-type {\n",
       "        vertical-align: middle;\n",
       "    }\n",
       "\n",
       "    .dataframe tbody tr th {\n",
       "        vertical-align: top;\n",
       "    }\n",
       "\n",
       "    .dataframe thead th {\n",
       "        text-align: right;\n",
       "    }\n",
       "</style>\n",
       "<table border=\"1\" class=\"dataframe\">\n",
       "  <thead>\n",
       "    <tr style=\"text-align: right;\">\n",
       "      <th></th>\n",
       "      <th>YearsExperience</th>\n",
       "      <th>Salary</th>\n",
       "    </tr>\n",
       "  </thead>\n",
       "  <tbody>\n",
       "    <tr>\n",
       "      <th>0</th>\n",
       "      <td>1.1</td>\n",
       "      <td>39343.0</td>\n",
       "    </tr>\n",
       "    <tr>\n",
       "      <th>1</th>\n",
       "      <td>1.3</td>\n",
       "      <td>46205.0</td>\n",
       "    </tr>\n",
       "    <tr>\n",
       "      <th>2</th>\n",
       "      <td>1.5</td>\n",
       "      <td>37731.0</td>\n",
       "    </tr>\n",
       "    <tr>\n",
       "      <th>3</th>\n",
       "      <td>2.0</td>\n",
       "      <td>43525.0</td>\n",
       "    </tr>\n",
       "    <tr>\n",
       "      <th>4</th>\n",
       "      <td>2.2</td>\n",
       "      <td>39891.0</td>\n",
       "    </tr>\n",
       "  </tbody>\n",
       "</table>\n",
       "</div>"
      ],
      "text/plain": [
       "   YearsExperience   Salary\n",
       "0              1.1  39343.0\n",
       "1              1.3  46205.0\n",
       "2              1.5  37731.0\n",
       "3              2.0  43525.0\n",
       "4              2.2  39891.0"
      ]
     },
     "execution_count": 8,
     "metadata": {},
     "output_type": "execute_result"
    }
   ],
   "source": [
    "salary_df.head()"
   ]
  },
  {
   "cell_type": "code",
   "execution_count": 9,
   "id": "32c0a95c-9b21-4ac6-aa22-c5bb15f3acf3",
   "metadata": {},
   "outputs": [
    {
     "data": {
      "text/plain": [
       "[<matplotlib.lines.Line2D at 0x2053af7acf0>]"
      ]
     },
     "execution_count": 9,
     "metadata": {},
     "output_type": "execute_result"
    },
    {
     "data": {
      "image/png": "[encoded data removed]",
      "text/plain": [
       "<Figure size 640x480 with 1 Axes>"
      ]
     },
     "metadata": {},
     "output_type": "display_data"
    }
   ],
   "source": [
    "# Create a scatter plot of 'YearsExperience' vs. 'Salary'\n",
    "plt.scatter(salary_df['YearsExperience'], salary_df['Salary'])\n",
    "# Plot the regression line\n",
    "# The line is created using the predicted salaries based on 'YearsExperience'\n",
    "plt.plot(salary_df['YearsExperience'],model.predict(salary_df['YearsExperience']), 'g-')"
   ]
  },
  {
   "cell_type": "code",
   "execution_count": 10,
   "id": "6953035d-42f2-4804-96e6-ef98889ea8b9",
   "metadata": {},
   "outputs": [
    {
     "data": {
      "text/plain": [
       "np.float64(31270951.722280957)"
      ]
     },
     "execution_count": 10,
     "metadata": {},
     "output_type": "execute_result"
    }
   ],
   "source": [
    "# Calculate the Mean Squared Error (MSE) of the model\n",
    "model.mse(salary_df['YearsExperience'], salary_df['Salary'])"
   ]
  },
  {
   "cell_type": "code",
   "execution_count": 11,
   "id": "d5bb4e9d-ced0-494d-b522-6edebf3035ed",
   "metadata": {},
   "outputs": [
    {
     "data": {
      "text/plain": [
       "np.float64(5592.043608760661)"
      ]
     },
     "execution_count": 11,
     "metadata": {},
     "output_type": "execute_result"
    }
   ],
   "source": [
    "model.rmse(salary_df['YearsExperience'], salary_df['Salary'])\n"
   ]
  },
  {
   "cell_type": "markdown",
   "id": "cbd5aa99-03d7-4eb1-9ec9-613f5fb490c6",
   "metadata": {},
   "source": [
    "# Gradient Decent"
   ]
  },
  {
   "cell_type": "code",
   "execution_count": 12,
   "id": "e7ff56a5-01e6-4b21-8510-2a18fe5c9dbe",
   "metadata": {},
   "outputs": [],
   "source": [
    "import numpy as np\n",
    "\n",
    "def grad_descent(x, y, learning_rate=0.0001, epochs=100):\n",
    "    # Initialize the slope (m) and intercept (c) to 0\n",
    "    m = 0\n",
    "    c = 0\n",
    "    # Get the number of data points\n",
    "    n = len(x)\n",
    "    \n",
    "    # Perform gradient descent for a given number of epochs\n",
    "    for i in range(epochs):\n",
    "        # Calculate the predicted y values using the current slope and intercept\n",
    "        y_pred = m * x + c\n",
    "        \n",
    "        # Compute the partial derivative of the cost function with respect to m\n",
    "        dm = (-2 / n) * np.sum(x * (y - y_pred))\n",
    "        \n",
    "        # Compute the partial derivative of the cost function with respect to c\n",
    "        dc = (-2 / n) * np.sum(y - y_pred)\n",
    "        \n",
    "        # Update the slope (m) by subtracting the learning rate times the partial derivative dm\n",
    "        m = m - learning_rate * dm\n",
    "        \n",
    "        # Update the intercept (c) by subtracting the learning rate times the partial derivative dc\n",
    "        c = c - learning_rate * dc\n",
    "    \n",
    "    # Return the final values of the slope (m) and intercept (c)\n",
    "    return m, c"
   ]
  },
  {
   "cell_type": "code",
   "execution_count": 13,
   "id": "d5a9176e-00e7-446d-9bfa-8f75170dd9c5",
   "metadata": {},
   "outputs": [],
   "source": [
    "m, c = grad_descent(salary_df['YearsExperience'], salary_df['Salary'], learning_rate=0.0003, epochs=3000)"
   ]
  },
  {
   "cell_type": "code",
   "execution_count": null,
   "id": "3c37c90f-f72e-409b-9773-965c3e518551",
   "metadata": {},
   "outputs": [],
   "source": []
  },
  {
   "cell_type": "code",
   "execution_count": 14,
   "id": "d3ab5e88",
   "metadata": {},
   "outputs": [
    {
     "data": {
      "text/plain": [
       "[<matplotlib.lines.Line2D at 0x2053d24d580>]"
      ]
     },
     "execution_count": 14,
     "metadata": {},
     "output_type": "execute_result"
    },
    {
     "data": {
      "image/png": "[encoded data removed]",
      "text/plain": [
       "<Figure size 640x480 with 1 Axes>"
      ]
     },
     "metadata": {},
     "output_type": "display_data"
    }
   ],
   "source": [
    "plt.scatter(salary_df['YearsExperience'], salary_df['Salary'])\n",
    "plt.plot(salary_df['YearsExperience'], m*salary_df['YearsExperience']+c, 'r-')"
   ]
  },
  {
   "cell_type": "code",
   "execution_count": null,
   "id": "c8b7a722",
   "metadata": {},
   "outputs": [],
   "source": []
  }
 ],
 "metadata": {
  "kernelspec": {
   "display_name": "Python 3 (ipykernel)",
   "language": "python",
   "name": "python3"
  },
  "language_info": {
   "codemirror_mode": {
    "name": "ipython",
    "version": 3
   },
   "file_extension": ".py",
   "mimetype": "text/x-python",
   "name": "python",
   "nbconvert_exporter": "python",
   "pygments_lexer": "ipython3",
   "version": "3.12.4"
  }
 },
 "nbformat": 4,
 "nbformat_minor": 5
}
